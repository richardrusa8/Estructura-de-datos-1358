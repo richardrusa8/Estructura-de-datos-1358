{
  "nbformat": 4,
  "nbformat_minor": 0,
  "metadata": {
    "colab": {
      "name": "arreglos_de_una_dimención.ipynb",
      "provenance": [],
      "authorship_tag": "ABX9TyO+iGUjxgMNMOt52qA4DwQa",
      "include_colab_link": true
    },
    "kernelspec": {
      "name": "python3",
      "display_name": "Python 3"
    },
    "language_info": {
      "name": "python"
    }
  },
  "cells": [
    {
      "cell_type": "markdown",
      "metadata": {
        "id": "view-in-github",
        "colab_type": "text"
      },
      "source": [
        "<a href=\"https://colab.research.google.com/github/richardrusa8/Estructura-de-datos-1358/blob/main/arreglos_de_una_dimenci%C3%B3n.ipynb\" target=\"_parent\"><img src=\"https://colab.research.google.com/assets/colab-badge.svg\" alt=\"Open In Colab\"/></a>"
      ]
    },
    {
      "cell_type": "code",
      "metadata": {
        "id": "cCRjCM3EHyif"
      },
      "source": [
        "\"\"\"\n",
        "ADT Array.\n",
        "\n",
        "\"\"\"\n",
        "\n",
        "class Array():\n",
        "  def __init__(self, tamano):\n",
        "    self.__tamano = tamano\n",
        "    self.__data = [0 for x in range(self.__tamano)]  #generator\n",
        "\n",
        "  def get_item( self , index ):\n",
        "      return self.__data[index]\n",
        "\n",
        "  def to_string(self):\n",
        "      print(self.__data)\n",
        "\n",
        "  def set_item(self, index, valor):\n",
        "    if self.__check_limits__(index):\n",
        "      self.__data[index]= valor\n",
        "    else:\n",
        "      raise Exception('Error de límites en index')\n",
        "\n",
        "  def clear(self, valor):\n",
        "    self.__data= [valor for x in range(self.__tamano)]\n",
        "  def get_length(self):\n",
        "    return self.__tamano\n",
        "\n",
        "  def __check_limits__(self, index):\n",
        "    return index >=0 and index < self.__tamano"
      ],
      "execution_count": 16,
      "outputs": []
    },
    {
      "cell_type": "code",
      "metadata": {
        "id": "DwJ0YV59MB8N"
      },
      "source": [
        "ejemplo = Array(5)\n",
        "ejemplo.to_string()\n",
        "ejemplo.get_item(3)"
      ],
      "execution_count": null,
      "outputs": []
    },
    {
      "cell_type": "code",
      "metadata": {
        "id": "6rcMVwMwxjzb"
      },
      "source": [
        "Lista= Array (10)\n",
        "\n",
        "Lista.set_item(0, 33)\n",
        "Lista.set_item(1, 3)\n",
        "Lista.set_item(2, 88)\n",
        "Lista.set_item(3, 42)\n",
        "Lista.set_item(4, 12)\n",
        "Lista.set_item(5, 28)\n",
        "Lista.set_item(6, 14)\n",
        "Lista.set_item(7, 100)\n",
        "Lista.set_item(8, 1)\n",
        "Lista.set_item(9, 60)\n",
        "\n",
        "for indice in range (Lista.get_length() ):\n",
        "  print(Lista.get_item(indice))\n",
        "\n",
        "for indice in range (Lista.get_length() ):\n",
        "  print(Lista.get_item(indice))\n"
      ],
      "execution_count": null,
      "outputs": []
    },
    {
      "cell_type": "markdown",
      "metadata": {
        "id": "h3gJq-eJWd-U"
      },
      "source": [
        "#Métodos de busqueda y ordenamiento.\n",
        "\n",
        "Búsqueda lineal.\n",
        "- De el recorrido desde la posición 0 hasta la posición n-1 buscando un valor dado por el usuario.\n",
        "\n",
        "- Es un algoritmo simple pero ineficiente\n",
        "\n",
        "- No se sabe la complejidad pporque depende de los datos internos"
      ]
    },
    {
      "cell_type": "code",
      "metadata": {
        "id": "x5qQ5YXZWKlr"
      },
      "source": [
        "valor_a_buscar= int(input(\"¿Qué valor quieres buscar?\"))\n",
        "encontrado= False\n",
        "for indice in range(Lista.get_length()):\n",
        "  if valor_a_buscar == Lista.get_item(indice):\n",
        "    print(\"el elemento se encuentra en la posición: \", indice)\n",
        "    encontrado= True\n",
        "    break\n",
        " \n",
        "  if encontrado:\n",
        "   print(\"El elemnto si existe en el arreglo\")\n",
        "  else:\n",
        "    print(\"El elemento no está en el arrglo\")"
      ],
      "execution_count": null,
      "outputs": []
    }
  ]
}