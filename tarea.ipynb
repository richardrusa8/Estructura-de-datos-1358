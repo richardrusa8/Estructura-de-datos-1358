{
  "nbformat": 4,
  "nbformat_minor": 0,
  "metadata": {
    "colab": {
      "name": "tarea.ipynb",
      "provenance": []
    },
    "kernelspec": {
      "name": "python3",
      "display_name": "Python 3"
    },
    "language_info": {
      "name": "python"
    }
  },
  "cells": [
    {
      "cell_type": "code",
      "metadata": {
        "id": "Ylspli8U1bBc"
      },
      "source": [
        "def printRev (n):\n",
        "  if n >= 0:\n",
        "    print(n)\n",
        "    if n == 0:\n",
        "      print ('¡¡¡BOOOOOOMMMMMM!!!')\n",
        "      return\n",
        "    printRev( n-1 )\n",
        "\n",
        "n= 10\n",
        "printRev (n) "
      ],
      "execution_count": null,
      "outputs": []
    },
    {
      "cell_type": "code",
      "metadata": {
        "id": "UWYEK7At2JRO"
      },
      "source": [
        "Lista = [ 1, 2, 3, 4, 5, 6, 7, 8, 9, 10]\n",
        "\n",
        "def suma( Lista ):\n",
        "  if len(Lista) == 0:\n",
        "    return 0\n",
        "\n",
        "  return Lista.pop(-1) + suma(Lista)\n",
        "\n",
        "  print(suma(Lista))"
      ],
      "execution_count": null,
      "outputs": []
    },
    {
      "cell_type": "code",
      "metadata": {
        "id": "QRlV97Jt3Rt2"
      },
      "source": [
        "Lista = [ 1, 2, 3, 4, 5, 6, 7, 8, 9, 10, 11, 12]\n",
        "\n",
        "def medio(Lista):\n",
        "  if len(Lista)%2 == 0:\n",
        "    if len (Lista) == 2:\n",
        "      Lista.pop(1)\n",
        "      return Lista\n",
        "    Lista.pop(0)\n",
        "    Lista.pop()\n",
        "    return medio(Lista)\n",
        "\n",
        "  if len(Lista) == 1:\n",
        "    return Lista\n",
        "  Lista.pop(0)\n",
        "  Lista.pop(-1)\n",
        "  return medio (Lista)"
      ],
      "execution_count": null,
      "outputs": []
    }
  ]
}